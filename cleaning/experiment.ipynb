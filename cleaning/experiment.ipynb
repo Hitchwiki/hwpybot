{
 "cells": [
  {
   "cell_type": "code",
   "execution_count": null,
   "id": "ade86b97",
   "metadata": {},
   "outputs": [],
   "source": [
    "import pywikibot\n",
    "from pywikibot import pagegenerators\n",
    "from tqdm import tqdm\n",
    "\n",
    "lang_wiki = pywikibot.Site(code='en', fam='hitchwiki')\n",
    "if not lang_wiki.user():\n",
    "    lang_wiki.login()"
   ]
  },
  {
   "cell_type": "code",
   "execution_count": null,
   "id": "cef9f748",
   "metadata": {},
   "outputs": [],
   "source": [
    "pages = list(pagegenerators.AllpagesPageGenerator(site=lang_wiki))"
   ]
  },
  {
   "cell_type": "code",
   "execution_count": null,
   "id": "af97ed1e",
   "metadata": {},
   "outputs": [],
   "source": [
    "pages[0]"
   ]
  },
  {
   "cell_type": "code",
   "execution_count": null,
   "id": "e9e8c217",
   "metadata": {},
   "outputs": [],
   "source": [
    "articles = {}"
   ]
  },
  {
   "cell_type": "code",
   "execution_count": null,
   "id": "424494ab",
   "metadata": {},
   "outputs": [],
   "source": [
    "for page in tqdm(pages, desc=\"Processing pages\"):\n",
    "    try:\n",
    "        articles[page.title()] = {\"text\": page.text}\n",
    "    except Exception as e:\n",
    "        print(f\"Error processing page: {e}\")\n",
    "        continue"
   ]
  },
  {
   "cell_type": "code",
   "execution_count": null,
   "id": "cba12229",
   "metadata": {},
   "outputs": [],
   "source": [
    "with open(\"articles.py\", \"w\") as f:\n",
    "    f.write(\"articles = \")\n",
    "    f.write(repr(articles))\n",
    "    f.write(\"\\n\")"
   ]
  },
  {
   "cell_type": "code",
   "execution_count": null,
   "id": "c15a6fe8",
   "metadata": {},
   "outputs": [],
   "source": [
    "from articles import articles"
   ]
  },
  {
   "cell_type": "code",
   "execution_count": null,
   "id": "3cead5b6",
   "metadata": {},
   "outputs": [],
   "source": [
    "len(articles)"
   ]
  },
  {
   "cell_type": "code",
   "execution_count": null,
   "id": "229ca108",
   "metadata": {},
   "outputs": [],
   "source": [
    "articles[\"Berlin\"]"
   ]
  },
  {
   "cell_type": "code",
   "execution_count": null,
   "id": "c33ce2b0",
   "metadata": {},
   "outputs": [],
   "source": [
    "for article, items in tqdm(articles.items()):\n",
    "    text = items[\"text\"]\n",
    "    if \"[[Category:City's]]\" in text or \"{{Category|City's}}\" in text:\n",
    "        corrected_text = text.replace(\"[[Category:City's]]\", \"[[Category:Cities]]\").replace(\"{{Category|City's}}\", \"[[Category:Cities]]\")\n",
    "\n",
    "        page = pywikibot.Page(lang_wiki, article)\n",
    "        page.text = corrected_text\n",
    "        page.save(f\"Correct City's category in {article}\")\n",
    "        print(page.title())\n",
    "        print(\"******\")\n",
    "\n",
    "        articles[article][\"text\"] = corrected_text"
   ]
  },
  {
   "cell_type": "code",
   "execution_count": null,
   "id": "08b3c2af",
   "metadata": {},
   "outputs": [],
   "source": [
    "with open(\"articles.py\", \"w\") as f:\n",
    "    f.write(\"articles = \")\n",
    "    f.write(repr(articles))\n",
    "    f.write(\"\\n\")"
   ]
  }
 ],
 "metadata": {
  "kernelspec": {
   "display_name": ".venv (3.12.6)",
   "language": "python",
   "name": "python3"
  },
  "language_info": {
   "codemirror_mode": {
    "name": "ipython",
    "version": 3
   },
   "file_extension": ".py",
   "mimetype": "text/x-python",
   "name": "python",
   "nbconvert_exporter": "python",
   "pygments_lexer": "ipython3",
   "version": "3.12.6"
  }
 },
 "nbformat": 4,
 "nbformat_minor": 5
}

{
 "cells": [
  {
   "cell_type": "code",
   "execution_count": null,
   "id": "ade86b97",
   "metadata": {},
   "outputs": [],
   "source": [
    "import pywikibot\n",
    "from pywikibot import pagegenerators\n",
    "from tqdm import tqdm\n",
    "import re\n",
    "\n",
    "\n",
    "lang_wiki = pywikibot.Site(code='en', fam='hitchwiki')\n",
    "if not lang_wiki.user():\n",
    "    lang_wiki.login()"
   ]
  },
  {
   "cell_type": "code",
   "execution_count": null,
   "id": "424494ab",
   "metadata": {},
   "outputs": [],
   "source": [
    "places = []\n",
    "gen = pagegenerators.AllpagesPageGenerator(site=lang_wiki)\n",
    "for page in gen:\n",
    "    if any(s in page.text for s in [\"{{Infobox\"]):\n",
    "        places.append(page.title())"
   ]
  },
  {
   "cell_type": "code",
   "execution_count": null,
   "id": "3cead5b6",
   "metadata": {},
   "outputs": [],
   "source": [
    "len(places)"
   ]
  },
  {
   "cell_type": "code",
   "execution_count": null,
   "id": "00c90dcb",
   "metadata": {},
   "outputs": [],
   "source": [
    "format = \"''xxx''' {{Coords|lat|lon|1}}\""
   ]
  },
  {
   "cell_type": "code",
   "execution_count": null,
   "id": "1a45b2af",
   "metadata": {},
   "outputs": [],
   "source": [
    "https://wego.here.com/portugal/marco-de-canaveses/petrol-station/repsol--620ez64q-b1bb2e884140423cab7e9393743fd2f4?x=ep&map=41.18695,-8.15549,15,normal"
   ]
  },
  {
   "cell_type": "code",
   "execution_count": null,
   "id": "47f74d5a",
   "metadata": {},
   "outputs": [],
   "source": [
    "links = []\n",
    "\n",
    "for place in tqdm(places):\n",
    "    page = pywikibot.Page(lang_wiki, place)\n",
    "\n",
    "    pattern = r\"(https://osm\\.org/go/[^\\s\\]\\)]+|https://www\\.openstreetmap\\.org/[^\\s\\]\\)]+|https://www\\.openstreetmap\\.org/node/[^\\s\\]\\)]+|https://goo\\.gl/maps/[^\\s\\]\\)]+|https://hitchmap\\.com/[^\\s\\]\\)]+|http://maps\\.google\\.be/maps[^\\s\\]\\)]+|http://maps\\.google\\.com/maps[^\\s\\]\\)]+|https://www\\.google\\.co\\.uk/maps/[^\\s\\]\\)]+|https://wego\\.here\\.com/[^\\s\\]\\)]+)\"\n",
    "    matches = re.findall(pattern, page.text)\n",
    "\n",
    "    if matches:\n",
    "        t = (place, matches)\n",
    "        print(t)\n",
    "        links.append(t)\n",
    "        \n",
    "\n",
    "    # page = pywikibot.Page(en_wiki, eng_page_name)\n",
    "    # page.text = f\"{{{{ai-enhanced}}}}\\n{translated_page}\"\n",
    "    # page.save(f\"Create this article by translation with language model (gpt 4.1) from hitchwiki original language: {lang} {ru_page_name}\")\n",
    "    # print(page.title())\n",
    "    # print(\"******\")"
   ]
  },
  {
   "cell_type": "code",
   "execution_count": null,
   "id": "680e316e",
   "metadata": {},
   "outputs": [],
   "source": [
    "locations = []\n",
    "\n",
    "for link in tqdm(links):\n",
    "    place, matches = link\n",
    "    this_locations = []\n",
    "\n",
    "    pattern = r'(-?\\d+\\.\\d{4,}),(-?\\d+\\.\\d{4,})'\n",
    "\n",
    "\n",
    "    for match in matches:\n",
    "        coords = re.search(pattern, match)\n",
    "        if coords:\n",
    "            lat, lon = coords.groups()\n",
    "            this_locations.append((match, (lat, lon)))\n",
    "\n",
    "    if this_locations:\n",
    "        locations.append((place, this_locations))"
   ]
  },
  {
   "cell_type": "code",
   "execution_count": null,
   "id": "2eee4d4d",
   "metadata": {},
   "outputs": [],
   "source": [
    "locations"
   ]
  }
 ],
 "metadata": {
  "kernelspec": {
   "display_name": ".venv",
   "language": "python",
   "name": "python3"
  },
  "language_info": {
   "codemirror_mode": {
    "name": "ipython",
    "version": 3
   },
   "file_extension": ".py",
   "mimetype": "text/x-python",
   "name": "python",
   "nbconvert_exporter": "python",
   "pygments_lexer": "ipython3",
   "version": "3.12.6"
  }
 },
 "nbformat": 4,
 "nbformat_minor": 5
}

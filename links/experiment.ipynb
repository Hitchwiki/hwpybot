{
 "cells": [
  {
   "cell_type": "code",
   "execution_count": null,
   "id": "ade86b97",
   "metadata": {},
   "outputs": [],
   "source": [
    "import pywikibot\n",
    "from pywikibot import pagegenerators\n",
    "from tqdm import tqdm\n",
    "import re\n",
    "import requests\n",
    "\n",
    "lang_wiki = pywikibot.Site(code='en', fam='hitchwiki')\n",
    "if not lang_wiki.user():\n",
    "    lang_wiki.login()"
   ]
  },
  {
   "cell_type": "code",
   "execution_count": null,
   "id": "7bb51933",
   "metadata": {},
   "outputs": [],
   "source": [
    "places = {}"
   ]
  },
  {
   "cell_type": "code",
   "execution_count": null,
   "id": "cef9f748",
   "metadata": {},
   "outputs": [],
   "source": [
    "pages = list(pagegenerators.AllpagesPageGenerator(site=lang_wiki))"
   ]
  },
  {
   "cell_type": "code",
   "execution_count": null,
   "id": "424494ab",
   "metadata": {},
   "outputs": [],
   "source": [
    "for page in tqdm(pages):\n",
    "    try:\n",
    "        if any(s in page.text for s in [\"{{Infobox\"]):\n",
    "            places[page.title()] = {\"text\": page.text}\n",
    "    except Exception as e:\n",
    "        print(f\"Error processing page: {e}\")\n",
    "        continue"
   ]
  },
  {
   "cell_type": "code",
   "execution_count": null,
   "id": "3cead5b6",
   "metadata": {},
   "outputs": [],
   "source": [
    "len(places)"
   ]
  },
  {
   "cell_type": "code",
   "execution_count": null,
   "id": "54cfa5f0",
   "metadata": {},
   "outputs": [],
   "source": [
    "places"
   ]
  },
  {
   "cell_type": "code",
   "execution_count": null,
   "id": "c33ce2b0",
   "metadata": {},
   "outputs": [],
   "source": [
    "for place, items in tqdm(places.items()):\n",
    "    try:\n",
    "        items[\"urls\"] = []\n",
    "        if items[\"text\"]:\n",
    "            matches = re.findall(r'http[s]?://[^\\s\\]\\)]+', items[\"text\"])\n",
    "            urls = [url for url in matches if any(x in url for x in ['map', 'lat', 'lon', 'osm', 'wego'])]\n",
    "            items[\"urls\"] = urls\n",
    "    except Exception as e:\n",
    "        print(f\"Error processing page {place}: {e}\")\n",
    "        continue\n"
   ]
  },
  {
   "cell_type": "code",
   "execution_count": null,
   "id": "c2f9c40e",
   "metadata": {},
   "outputs": [],
   "source": [
    "for place, items in tqdm(places.items()):\n",
    "    try:\n",
    "        coords = []\n",
    "        items[\"coords\"] = coords\n",
    "        if \"urls\" in items and len(items[\"urls\"]) > 0:\n",
    "            for url in items[\"urls\"]:\n",
    "                response = requests.head(url, allow_redirects=True, timeout=5)\n",
    "                if response.status_code < 400:\n",
    "\n",
    "                    # kick out collections of points\n",
    "                    if any([x in response.url for x in [\"viewer\", \"directions\", \"route\", \"path\"]]):\n",
    "                        continue\n",
    "                    \n",
    "                    \n",
    "                    lat_lon_pattern = r\"(-?\\d+\\.\\d{4,})(?:[,/]|%2C){1}(-?\\d+\\.\\d{4,})\"\n",
    "                    matches = re.findall(lat_lon_pattern, response.url)\n",
    "                    if len(matches) == 0:\n",
    "                        # print(f\"No coordinates found in {url}\")\n",
    "                        continue\n",
    "                    if len(matches) > 1:\n",
    "                        # print(\n",
    "                        #     f\"Multiple coordinates found in {url} likely a path: {matches}\"\n",
    "                        # )\n",
    "                        continue\n",
    "                    lat, lon = matches[0]\n",
    "                    coords.append((url, response.url, (lat, lon)))\n",
    "            print(f\"{len(coords)}/{len(items['urls'])} urls found\")\n",
    "            # print(place, json.dumps(items, indent=2))\n",
    "        items[\"coords\"] = coords\n",
    "    except Exception as e:\n",
    "        print(f\"Error processing page {place}: {e}\")\n",
    "        continue"
   ]
  },
  {
   "cell_type": "code",
   "execution_count": null,
   "id": "a946e689",
   "metadata": {},
   "outputs": [],
   "source": [
    "for place, items in tqdm(places.items()):\n",
    "    try:\n",
    "        items.pop(\"new_text\", None)\n",
    "        if \"coords\" in items and items[\"coords\"]:\n",
    "            for url, real_url, (lat, lon) in items[\"coords\"]:\n",
    "                text = items[\"new_text\"] if \"new_text\" in items else items[\"text\"]\n",
    "                if url in text:\n",
    "                    escaped_url = re.escape(url)\n",
    "                    pattern = rf'\\[{escaped_url}\\s+([^\\]]+)\\]'\n",
    "                    match = re.search(pattern, items[\"text\"])\n",
    "                    if match:\n",
    "                        link_text = match.group(1)\n",
    "                        new_text = text.replace(\n",
    "                            f\"[{url} {link_text}]\",\n",
    "                            f\"''{link_text}'' {{{{Coords|{lat}|{lon}|1}}}}\"\n",
    "                        )\n",
    "                    else:\n",
    "                        new_text = text.replace(\n",
    "                            url,\n",
    "                            f\"{{{{Coords|{lat}|{lon}}}}}\"\n",
    "                        )\n",
    "                    items[\"new_text\"] = new_text\n",
    "    except Exception as e:\n",
    "        print(f\"Error updating page {place}: {e}\")\n",
    "        continue"
   ]
  },
  {
   "cell_type": "code",
   "execution_count": null,
   "id": "a3058302",
   "metadata": {},
   "outputs": [],
   "source": [
    "edits = {k: v for k, v in places.items() if \"new_text\" in v}\n",
    "len(edits)"
   ]
  },
  {
   "cell_type": "code",
   "execution_count": null,
   "id": "5815b1f0",
   "metadata": {},
   "outputs": [],
   "source": [
    "for place, items in tqdm(list(edits.items())):\n",
    "    try:\n",
    "        page = pywikibot.Page(lang_wiki, place)\n",
    "        if page.text != items[\"new_text\"]:\n",
    "            page.text = items[\"new_text\"]\n",
    "            page.save(summary=\"Adding coordinates from map URLs\", minor=False)\n",
    "            print(f\"Updated: {place}\")\n",
    "        else:\n",
    "            print(f\"No changes for {place}\")\n",
    "    except Exception as e:\n",
    "        print(f\"Error saving page {place}: {e}\")\n",
    "        continue"
   ]
  },
  {
   "cell_type": "code",
   "execution_count": null,
   "id": "4b6e18fe",
   "metadata": {},
   "outputs": [],
   "source": [
    "edits"
   ]
  }
 ],
 "metadata": {
  "kernelspec": {
   "display_name": "base",
   "language": "python",
   "name": "python3"
  },
  "language_info": {
   "codemirror_mode": {
    "name": "ipython",
    "version": 3
   },
   "file_extension": ".py",
   "mimetype": "text/x-python",
   "name": "python",
   "nbconvert_exporter": "python",
   "pygments_lexer": "ipython3",
   "version": "3.10.10"
  }
 },
 "nbformat": 4,
 "nbformat_minor": 5
}

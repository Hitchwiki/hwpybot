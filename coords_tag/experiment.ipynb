{
 "cells": [
  {
   "cell_type": "code",
   "execution_count": null,
   "id": "ade86b97",
   "metadata": {},
   "outputs": [],
   "source": [
    "import pywikibot\n",
    "from pywikibot import pagegenerators\n",
    "from tqdm import tqdm\n",
    "from scipy.spatial import cKDTree\n",
    "from coords_extraction import find_coords_and_headings\n",
    "import pandas as pd\n",
    "import sqlite3\n",
    "import wget\n",
    "import os\n",
    "import math\n",
    "\n",
    "# Display all rows\n",
    "pd.set_option('display.max_rows', None)\n",
    "\n",
    "# Display all columns\n",
    "pd.set_option('display.max_columns', None)\n",
    "\n",
    "# Display full content in each cell\n",
    "pd.set_option('display.max_colwidth', None)  # For pandas < 1.0 use -1 instead of None\n",
    "\n",
    "\n",
    "from articles import articles\n",
    "\n",
    "lang_wiki = pywikibot.Site(code='en', fam='hitchwiki')\n",
    "if not lang_wiki.user():\n",
    "    lang_wiki.login()"
   ]
  },
  {
   "cell_type": "code",
   "execution_count": null,
   "id": "cef9f748",
   "metadata": {},
   "outputs": [],
   "source": [
    "pages = list(pagegenerators.AllpagesPageGenerator(site=lang_wiki))"
   ]
  },
  {
   "cell_type": "code",
   "execution_count": null,
   "id": "424494ab",
   "metadata": {},
   "outputs": [],
   "source": [
    "for page in tqdm(pages, desc=\"Processing pages\"):\n",
    "    try:\n",
    "        if any(s in page.text for s in [\"{{Coords\"]):\n",
    "            articles[page.title()] = {\"text\": page.text}\n",
    "    except Exception as e:\n",
    "        print(f\"Error processing page: {e}\")\n",
    "        continue"
   ]
  },
  {
   "cell_type": "code",
   "execution_count": null,
   "id": "3cead5b6",
   "metadata": {},
   "outputs": [],
   "source": [
    "len(articles)"
   ]
  },
  {
   "cell_type": "code",
   "execution_count": null,
   "id": "c33ce2b0",
   "metadata": {},
   "outputs": [],
   "source": [
    "coords = []\n",
    "\n",
    "for article, items in tqdm(articles.items()):\n",
    "    coords_results = find_coords_and_headings(raw_wiki_page=items[\"text\"], title=article)\n",
    "\n",
    "    coords.extend(coords_results)\n"
   ]
  },
  {
   "cell_type": "code",
   "execution_count": null,
   "id": "de8b6f60",
   "metadata": {},
   "outputs": [],
   "source": [
    "coords_df = pd.DataFrame(coords)"
   ]
  },
  {
   "cell_type": "code",
   "execution_count": null,
   "id": "33c7a1aa",
   "metadata": {},
   "outputs": [],
   "source": [
    "coords_df.head()"
   ]
  },
  {
   "cell_type": "markdown",
   "id": "fcece50b",
   "metadata": {},
   "source": [
    "# match to hitchhiking ride data"
   ]
  },
  {
   "cell_type": "code",
   "execution_count": null,
   "id": "bfa7f4e1",
   "metadata": {},
   "outputs": [],
   "source": [
    "def haversine(lat1, lon1, lat2, lon2):\n",
    "    # Convert decimal degrees to radians\n",
    "    lat1, lon1, lat2, lon2 = map(math.radians, [lat1, lon1, lat2, lon2])\n",
    "    # Haversine formula\n",
    "    dlat = lat2 - lat1\n",
    "    dlon = lon2 - lon1\n",
    "    a = math.sin(dlat/2)**2 + math.cos(lat1) * math.cos(lat2) * math.sin(dlon/2)**2\n",
    "    c = 2 * math.asin(math.sqrt(a))\n",
    "    r = 6371 \n",
    "    return c * r"
   ]
  },
  {
   "cell_type": "code",
   "execution_count": null,
   "id": "5b55cf0e",
   "metadata": {},
   "outputs": [],
   "source": [
    "coords_df[\"lat\"] = coords_df[\"coords\"].apply(lambda x: float(x.split(\"|\")[1].strip()))\n",
    "coords_df[\"lon\"] = coords_df[\"coords\"].apply(lambda x: float(x.split(\"|\")[2].strip().rstrip(\"}\")))"
   ]
  },
  {
   "cell_type": "code",
   "execution_count": null,
   "id": "aeeafb40",
   "metadata": {},
   "outputs": [],
   "source": [
    "url = 'https://hitchmap.com/dump.sqlite'\n",
    "filename = 'dump.sqlite'\n",
    "if os.path.exists(filename):\n",
    "        os.remove(filename)\n",
    "filename = wget.download(url)\n",
    "points = pd.read_sql('select * from points', sqlite3.connect(filename))"
   ]
  },
  {
   "cell_type": "code",
   "execution_count": null,
   "id": "d4c6456a",
   "metadata": {},
   "outputs": [],
   "source": [
    "tree = cKDTree(points[['lat', 'lon']].values)\n",
    "\n",
    "distances, indices = tree.query(coords_df[['lat', 'lon']].values)\n",
    "\n",
    "# Add nearest node info to points DataFrame\n",
    "coords_df['nearest_node_id'] = points.iloc[indices]['id'].values\n",
    "coords_df['nearest_node_lat'] = points.iloc[indices]['lat'].values\n",
    "coords_df['nearest_node_lon'] = points.iloc[indices]['lon'].values\n",
    "coords_df['distance'] = distances\n",
    "\n",
    "\n",
    "\n",
    "coords_df['haversine_distance_in_m'] = coords_df.apply(lambda row: haversine(row['lat'], row['lon'], row['nearest_node_lat'], row['nearest_node_lon']) * 1000, axis=1)\n",
    "\n",
    "coords_df = coords_df.sort_values(by='haversine_distance_in_m')\n",
    "\n"
   ]
  },
  {
   "cell_type": "code",
   "execution_count": null,
   "id": "bed2df08",
   "metadata": {},
   "outputs": [],
   "source": [
    "coords_df.head(100)"
   ]
  },
  {
   "cell_type": "code",
   "execution_count": null,
   "id": "0147f039",
   "metadata": {},
   "outputs": [],
   "source": [
    "coords_df.tail()"
   ]
  },
  {
   "cell_type": "code",
   "execution_count": null,
   "id": "0428edcc",
   "metadata": {},
   "outputs": [],
   "source": [
    "coords_df.to_csv('coords_df.csv', index=False)"
   ]
  }
 ],
 "metadata": {
  "kernelspec": {
   "display_name": ".venv",
   "language": "python",
   "name": "python3"
  },
  "language_info": {
   "codemirror_mode": {
    "name": "ipython",
    "version": 3
   },
   "file_extension": ".py",
   "mimetype": "text/x-python",
   "name": "python",
   "nbconvert_exporter": "python",
   "pygments_lexer": "ipython3",
   "version": "3.12.6"
  }
 },
 "nbformat": 4,
 "nbformat_minor": 5
}

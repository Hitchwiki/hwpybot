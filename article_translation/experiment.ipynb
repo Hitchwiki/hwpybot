{
 "cells": [
  {
   "cell_type": "code",
   "execution_count": 1,
   "id": "8b5e8813",
   "metadata": {},
   "outputs": [],
   "source": [
    "from dotenv import load_dotenv\n",
    "from utils import get_english_city_name\n",
    "from time import sleep\n",
    "from tqdm import tqdm\n",
    "load_dotenv();"
   ]
  },
  {
   "cell_type": "code",
   "execution_count": 2,
   "id": "b6d85636",
   "metadata": {},
   "outputs": [],
   "source": [
    "lang = \"ru\"\n",
    "countries = [\"Россия\", \"Украина\", \"Беларусь\", \"Казахстан\", \"Киргизия\", \"Узбекистан\"]\n",
    "lang_category = \"Категория:Россия\"\n",
    "# collecting cities from Russia and adjacent countries\n",
    "city_indicators = [\n",
    "    \"{{IsIn|Россия}}\",\n",
    "    \"[[Категория:Россия]]\",\n",
    "    \"== Выезды\",\n",
    "    \"<map\",\n",
    "    \"/map/\",\n",
    "    \"{{Субъекты Российской Федерации}}\",\n",
    "    \"== Выезды\",\n",
    "    \"{{Регионы Украины}}\",\n",
    "    \"== Въезд\",\n",
    "    \"== Проживание\",\n",
    "    \"{{Города Украины}}\",\n",
    "    \"{{IsIn|Беларусь}}\",\n",
    "    \"[[Категория:Беларусь]]\",\n",
    "    \"[[Категория:Казахстан]]\",\n",
    "    \"{{Города Киргизии}}\",\n",
    "    \"[[Категория:Узбекистан]]\",\n",
    "]"
   ]
  },
  {
   "cell_type": "code",
   "execution_count": 3,
   "id": "ade86b97",
   "metadata": {},
   "outputs": [
    {
     "name": "stderr",
     "output_type": "stream",
     "text": [
      "/home/till/projects/hitchhiking/hwpybot/.venv/lib/python3.12/site-packages/pywikibot/config.py:1023: UserWarning: \n",
      "Configuration variable \"lang\" is defined in your user-config.py but\n",
      "unknown. It can be a misspelled one or a variable that is no longer\n",
      "supported.\n",
      "  warn('\\n' + fill(f'Configuration variable \"{name}\" is defined '\n",
      "WARNING: /tmp/ipykernel_37807/1591524769.py:4: UserWarning: Site hitchwiki_ru:hitchwiki_ru instantiated using different code \"ru\"\n",
      "  lang_wiki = pywikibot.Site(code=lang, fam=f'hitchwiki_{lang}')\n",
      "\n"
     ]
    }
   ],
   "source": [
    "import pywikibot\n",
    "from pywikibot import pagegenerators\n",
    "\n",
    "lang_wiki = pywikibot.Site(code=lang, fam=f'hitchwiki_{lang}')\n",
    "if not lang_wiki.user():\n",
    "    lang_wiki.login()"
   ]
  },
  {
   "cell_type": "code",
   "execution_count": null,
   "id": "424494ab",
   "metadata": {},
   "outputs": [],
   "source": [
    "possible_cities = []\n",
    "gen = pagegenerators.AllpagesPageGenerator(site=lang_wiki)\n",
    "for page in gen:\n",
    "    if any(s in page.text for s in city_indicators) and all(page.title() != c for c in countries):\n",
    "        possible_cities.append(page.title())"
   ]
  },
  {
   "cell_type": "code",
   "execution_count": null,
   "id": "f74612d2",
   "metadata": {},
   "outputs": [],
   "source": [
    "possible_cities"
   ]
  },
  {
   "cell_type": "code",
   "execution_count": null,
   "id": "c483a93b",
   "metadata": {},
   "outputs": [],
   "source": [
    "cities = []\n",
    "# now only russian cities"
   ]
  },
  {
   "cell_type": "code",
   "execution_count": null,
   "id": "7ff181df",
   "metadata": {},
   "outputs": [],
   "source": [
    "cs = []"
   ]
  },
  {
   "cell_type": "code",
   "execution_count": null,
   "id": "0e202c16",
   "metadata": {},
   "outputs": [],
   "source": [
    "categories_to_skip = [\n",
    "    \"Категория:Незавершённые статьи\",\n",
    "    \"Категория:Статьи с непроверенной информацией\",\n",
    "    \"Категория:Нужна информация\",\n",
    "    \"Категория:Незавершённые статьи\",\n",
    "]"
   ]
  },
  {
   "cell_type": "code",
   "execution_count": null,
   "id": "d9d03653",
   "metadata": {},
   "outputs": [],
   "source": [
    "# going two categories up means from federal state level to country level\n",
    "# country level has to be Russia\n",
    "for city in tqdm(possible_cities):\n",
    "    page = pywikibot.Page(lang_wiki, city.title())\n",
    "    first_level_categories = list(page.categories())\n",
    "    if len(first_level_categories) == 0:\n",
    "        continue\n",
    "    if any([c.title() == lang_category for c in first_level_categories]):\n",
    "        cities.append(page.title())\n",
    "        continue\n",
    "    flc = [\n",
    "        cat\n",
    "        for cat in first_level_categories\n",
    "        if cat.title()\n",
    "        not in categories_to_skip\n",
    "    ]\n",
    "    cs += flc\n",
    "    for category in flc:\n",
    "        second_level_categories = list(category.categories())\n",
    "        cs += second_level_categories\n",
    "        if any([c.title() == lang_category for c in second_level_categories]):\n",
    "            cities.append(page.title())\n",
    "            continue"
   ]
  },
  {
   "cell_type": "code",
   "execution_count": null,
   "id": "7a28789a",
   "metadata": {},
   "outputs": [],
   "source": [
    "len(cities), len(possible_cities)"
   ]
  },
  {
   "cell_type": "code",
   "execution_count": null,
   "id": "c6f44a9b",
   "metadata": {},
   "outputs": [],
   "source": [
    "en_wiki = pywikibot.Site(code='en', fam='hitchwiki')\n",
    "if not en_wiki.user():\n",
    "    en_wiki.login()"
   ]
  },
  {
   "cell_type": "code",
   "execution_count": null,
   "id": "f6f9c66e",
   "metadata": {},
   "outputs": [],
   "source": [
    "filtered_cities = []"
   ]
  },
  {
   "cell_type": "code",
   "execution_count": null,
   "id": "3f5f0dae",
   "metadata": {},
   "outputs": [],
   "source": [
    "avoid_categories = ['Категория:Автодороги России', \"Категория:погранпереходы\", \"Категория:Погранпереходы\"]"
   ]
  },
  {
   "cell_type": "code",
   "execution_count": null,
   "id": "a83c9e83",
   "metadata": {},
   "outputs": [],
   "source": [
    "for city in tqdm(cities):\n",
    "    page = pywikibot.Page(lang_wiki, city.title())\n",
    "    first_level_categories = list(page.categories())\n",
    "    if any([category in [cat.title() for cat in first_level_categories] for category in avoid_categories]):\n",
    "        continue\n",
    "    filtered_cities.append(city)"
   ]
  },
  {
   "cell_type": "code",
   "execution_count": null,
   "id": "0b970738",
   "metadata": {},
   "outputs": [],
   "source": [
    "len(cities), len(filtered_cities)"
   ]
  },
  {
   "cell_type": "code",
   "execution_count": null,
   "id": "b3acb3bb",
   "metadata": {},
   "outputs": [],
   "source": [
    "filtered_cities"
   ]
  },
  {
   "cell_type": "code",
   "execution_count": null,
   "id": "7b6b90bb",
   "metadata": {},
   "outputs": [],
   "source": [
    "cities_to_translate = []"
   ]
  },
  {
   "cell_type": "code",
   "execution_count": null,
   "id": "1508f7e1",
   "metadata": {},
   "outputs": [],
   "source": [
    "for city in tqdm(filtered_cities):\n",
    "    sleep(0.3)\n",
    "    pages_to_check = []\n",
    "    pages_to_check.append(pywikibot.Page(en_wiki, city))\n",
    "    english_city_name = get_english_city_name(original_name=city, original_lang=lang)\n",
    "    if english_city_name != city:\n",
    "        pages_to_check.append(pywikibot.Page(en_wiki, english_city_name))\n",
    "\n",
    "    if all([page.text == \"\" for page in pages_to_check]):\n",
    "        cities_to_translate.append((city, english_city_name))\n",
    "    elif pages_to_check[0].text != \"\":\n",
    "        print(f\"Russian article for: {city}\")\n",
    "    elif pages_to_check[0].text == \"\" and len(pages_to_check[1].text) < 1000:\n",
    "        print(f\"Overwrite small English article for: {english_city_name}\")\n",
    "        cities_to_translate.append((city, english_city_name))"
   ]
  },
  {
   "cell_type": "code",
   "execution_count": null,
   "id": "e993d239",
   "metadata": {},
   "outputs": [],
   "source": [
    "len(cities_to_translate)"
   ]
  },
  {
   "cell_type": "code",
   "execution_count": null,
   "id": "11fcea21",
   "metadata": {},
   "outputs": [],
   "source": [
    "cities_to_translate = list(set(cities_to_translate))"
   ]
  },
  {
   "cell_type": "code",
   "execution_count": null,
   "id": "54f662ef",
   "metadata": {},
   "outputs": [],
   "source": [
    "from openai import OpenAI\n",
    "from prompts import SYSTEM_PROMPT, city_template, info_box\n",
    "from tqdm import tqdm\n",
    "client = OpenAI()\n",
    "\n",
    "def translate(page):\n",
    "    response = client.responses.create(\n",
    "        model=\"gpt-4.1\",\n",
    "        input=[\n",
    "            {\n",
    "                \"role\": \"developer\",\n",
    "                \"content\": SYSTEM_PROMPT.format(info_box=info_box, template=city_template)\n",
    "            },\n",
    "            {\n",
    "                \"role\": \"user\",\n",
    "                \"content\": page.text\n",
    "            }\n",
    "        ]\n",
    "    )\n",
    "\n",
    "    return response.output_text"
   ]
  },
  {
   "cell_type": "code",
   "execution_count": null,
   "id": "ea73d737",
   "metadata": {},
   "outputs": [],
   "source": [
    "cities_to_translate"
   ]
  },
  {
   "cell_type": "code",
   "execution_count": null,
   "id": "47f74d5a",
   "metadata": {},
   "outputs": [],
   "source": [
    "for ru_page_name, eng_page_name in tqdm(cities_to_translate):\n",
    "    original_page = pywikibot.Page(lang_wiki, ru_page_name)\n",
    "    translated_page = translate(page=original_page)\n",
    "\n",
    "    page = pywikibot.Page(en_wiki, eng_page_name)\n",
    "    page.text = f\"{{{{ai-enhanced}}}}\\n{translated_page}\"\n",
    "    page.save(f\"Create this article by translation with language model (gpt 4.1) from hitchwiki original language: {lang} {ru_page_name}\")\n",
    "    print(page.title())\n",
    "    print(\"******\")"
   ]
  }
 ],
 "metadata": {
  "kernelspec": {
   "display_name": ".venv",
   "language": "python",
   "name": "python3"
  },
  "language_info": {
   "codemirror_mode": {
    "name": "ipython",
    "version": 3
   },
   "file_extension": ".py",
   "mimetype": "text/x-python",
   "name": "python",
   "nbconvert_exporter": "python",
   "pygments_lexer": "ipython3",
   "version": "3.12.6"
  }
 },
 "nbformat": 4,
 "nbformat_minor": 5
}

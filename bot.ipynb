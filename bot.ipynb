{
 "cells": [
  {
   "cell_type": "code",
   "execution_count": null,
   "id": "8b5e8813",
   "metadata": {},
   "outputs": [],
   "source": [
    "from dotenv import load_dotenv\n",
    "from utils import get_english_city_name\n",
    "from time import sleep\n",
    "load_dotenv();"
   ]
  },
  {
   "cell_type": "code",
   "execution_count": null,
   "id": "b6d85636",
   "metadata": {},
   "outputs": [],
   "source": [
    "lang = 'es'\n",
    "country = \"España\"\n",
    "city_indicators = [\"{{IsIn|France}}\", \"[[Category:España]]\", \"== Partir ==\", \"<map\", \"/map/\"]"
   ]
  },
  {
   "cell_type": "code",
   "execution_count": null,
   "id": "ade86b97",
   "metadata": {},
   "outputs": [],
   "source": [
    "import pywikibot\n",
    "from pywikibot import pagegenerators\n",
    "\n",
    "lang_wiki = pywikibot.Site(code=lang, fam=f'hitchwiki_{lang}')\n",
    "if not lang_wiki.user():\n",
    "    lang_wiki.login()"
   ]
  },
  {
   "cell_type": "code",
   "execution_count": null,
   "id": "424494ab",
   "metadata": {},
   "outputs": [],
   "source": [
    "possible_cities = []\n",
    "gen = pagegenerators.AllpagesPageGenerator(site=lang_wiki)\n",
    "for page in gen:\n",
    "    if any(s in page.text for s in city_indicators) and page.title() != country:\n",
    "        possible_cities.append(page.title())"
   ]
  },
  {
   "cell_type": "code",
   "execution_count": null,
   "id": "53175055",
   "metadata": {},
   "outputs": [],
   "source": [
    "cities = []"
   ]
  },
  {
   "cell_type": "code",
   "execution_count": null,
   "id": "b3420ee3",
   "metadata": {},
   "outputs": [],
   "source": [
    "lang_category = \"Catégorie:France\""
   ]
  },
  {
   "cell_type": "code",
   "execution_count": null,
   "id": "d9d03653",
   "metadata": {},
   "outputs": [],
   "source": [
    "# going two categories up means from federal state level to country level\n",
    "# country level has to be Germany\n",
    "for city in possible_cities:\n",
    "    page = pywikibot.Page(lang_wiki, city.title())\n",
    "    first_level_categories = list(page.categories())\n",
    "    if len(first_level_categories) == 0:\n",
    "        continue\n",
    "    if any([c.title() == lang_category for c in first_level_categories]):\n",
    "        cities.append(page.title())\n",
    "        continue\n",
    "    for category in first_level_categories:\n",
    "        second_level_categories = list(category.categories())\n",
    "        if any([c.title() == lang_category for c in second_level_categories]):\n",
    "            cities.append(page.title())\n",
    "            continue"
   ]
  },
  {
   "cell_type": "code",
   "execution_count": null,
   "id": "7a28789a",
   "metadata": {},
   "outputs": [],
   "source": [
    "cities"
   ]
  },
  {
   "cell_type": "code",
   "execution_count": null,
   "id": "c6f44a9b",
   "metadata": {},
   "outputs": [],
   "source": [
    "en_wiki = pywikibot.Site(code='en', fam='hitchwiki')\n",
    "if not en_wiki.user():\n",
    "    en_wiki.login()"
   ]
  },
  {
   "cell_type": "code",
   "execution_count": null,
   "id": "7b6b90bb",
   "metadata": {},
   "outputs": [],
   "source": [
    "cities_to_translate = []"
   ]
  },
  {
   "cell_type": "code",
   "execution_count": null,
   "id": "1508f7e1",
   "metadata": {},
   "outputs": [],
   "source": [
    "for city in cities:\n",
    "    sleep(1)\n",
    "    print(city)\n",
    "    pages_to_check = []\n",
    "    pages_to_check.append(pywikibot.Page(en_wiki, city))\n",
    "    english_city_name = get_english_city_name(city)\n",
    "    if english_city_name != city:\n",
    "        pages_to_check.append(pywikibot.Page(en_wiki, english_city_name))\n",
    "\n",
    "    if all([page.text == \"\" for page in pages_to_check]):\n",
    "        cities_to_translate.append(city)"
   ]
  },
  {
   "cell_type": "code",
   "execution_count": null,
   "id": "e993d239",
   "metadata": {},
   "outputs": [],
   "source": [
    "cities_to_translate"
   ]
  },
  {
   "cell_type": "code",
   "execution_count": null,
   "id": "54f662ef",
   "metadata": {},
   "outputs": [],
   "source": [
    "from openai import OpenAI\n",
    "from prompts import SYSTEM_PROMPT, city_template, info_box\n",
    "from tqdm import tqdm\n",
    "client = OpenAI()\n",
    "\n",
    "def translate(page):\n",
    "    response = client.responses.create(\n",
    "        model=\"gpt-4.1\",\n",
    "        input=[\n",
    "            {\n",
    "                \"role\": \"developer\",\n",
    "                \"content\": SYSTEM_PROMPT.format(info_box=info_box, template=city_template)\n",
    "            },\n",
    "            {\n",
    "                \"role\": \"user\",\n",
    "                \"content\": page.text\n",
    "            }\n",
    "        ]\n",
    "    )\n",
    "\n",
    "    return response.output_text"
   ]
  },
  {
   "cell_type": "code",
   "execution_count": null,
   "id": "47f74d5a",
   "metadata": {},
   "outputs": [],
   "source": [
    "for page_name in tqdm(cities_to_translate):\n",
    "    original_page = pywikibot.Page(lang_wiki, page_name)\n",
    "    translated_page = translate(page=original_page)\n",
    "\n",
    "    page = pywikibot.Page(en_wiki, page_name)\n",
    "    page.text = f\"{{{{ai-enhanced}}}}\\n{translated_page}\"\n",
    "    page.save(f\"Create this article by translation with language model (gpt 4.1) from hitchwiki original language: {lang} {page_name}\")\n",
    "    print(page.title())\n",
    "    print(\"******\")"
   ]
  }
 ],
 "metadata": {
  "kernelspec": {
   "display_name": ".venv",
   "language": "python",
   "name": "python3"
  },
  "language_info": {
   "codemirror_mode": {
    "name": "ipython",
    "version": 3
   },
   "file_extension": ".py",
   "mimetype": "text/x-python",
   "name": "python",
   "nbconvert_exporter": "python",
   "pygments_lexer": "ipython3",
   "version": "3.13.2"
  }
 },
 "nbformat": 4,
 "nbformat_minor": 5
}
